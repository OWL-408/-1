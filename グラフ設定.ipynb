{
  "nbformat": 4,
  "nbformat_minor": 0,
  "metadata": {
    "colab": {
      "provenance": [],
      "authorship_tag": "ABX9TyP7nASxoRFO97nM3H6UG/sg",
      "include_colab_link": true
    },
    "kernelspec": {
      "name": "python3",
      "display_name": "Python 3"
    },
    "language_info": {
      "name": "python"
    }
  },
  "cells": [
    {
      "cell_type": "markdown",
      "metadata": {
        "id": "view-in-github",
        "colab_type": "text"
      },
      "source": [
        "<a href=\"https://colab.research.google.com/github/OWL-408/Python-Tool-s/blob/main/%E3%82%B0%E3%83%A9%E3%83%95%E8%A8%AD%E5%AE%9A.ipynb\" target=\"_parent\"><img src=\"https://colab.research.google.com/assets/colab-badge.svg\" alt=\"Open In Colab\"/></a>"
      ]
    },
    {
      "cell_type": "code",
      "execution_count": null,
      "metadata": {
        "id": "OM80l0AS6_vo"
      },
      "outputs": [],
      "source": [
        "import matplotlib.pyplot as plt\n",
        "import numpy as np\n",
        "\n",
        "# ダミーデータ生成 (Colab で動作確認用)\n",
        "history = {'loss': np.random.rand(10), 'val_loss': np.random.rand(10)}\n",
        "filename = 'sample_plot'\n",
        "epochs = 10\n",
        "batch_size = 32\n",
        "neurons = 64\n",
        "output_folder = '.'  # Colab ではカレントディレクトリに保存\n",
        "\n",
        "# フォントサイズの設定\n",
        "title_font_size = 24\n",
        "label_font_size = 20\n",
        "legend_font_size = 20\n",
        "ticks_font_size = 18\n",
        "\n",
        "# 学習曲線をプロット\n",
        "plt.figure(figsize=(10, 6))\n",
        "plt.plot(history['loss'], label='Train Loss')\n",
        "plt.plot(history['val_loss'], label='Validation Loss')\n",
        "\n",
        "# タイトル、軸ラベル、凡例の設定\n",
        "plt.title(f'Model Loss for {filename}\\nEpochs: {epochs}, Batch Size: {batch_size}, Neurons: {neurons}', fontsize=title_font_size, fontweight='bold')\n",
        "plt.ylabel('Loss', fontsize=label_font_size)\n",
        "plt.xlabel('Epoch', fontsize=label_font_size)\n",
        "plt.legend(loc='upper right', fontsize=legend_font_size)\n",
        "\n",
        "# 目盛りのフォントサイズ設定\n",
        "plt.xticks(fontsize=ticks_font_size)\n",
        "plt.yticks(fontsize=ticks_font_size)\n",
        "\n",
        "plt.tight_layout()\n",
        "plt.savefig(f\"{output_folder}/{filename}_epochs-{epochs}_batch-{batch_size}_neurons-{neurons}_plot.png\", dpi=300)  # 高解像度で保存\n",
        "plt.close()\n",
        "\n",
        "# 保存されたグラフを表示 (Colab で確認用)\n",
        "from IPython.display import Image\n",
        "Image(f\"{output_folder}/{filename}_epochs-{epochs}_batch-{batch_size}_neurons-{neurons}_plot.png\")"
      ]
    }
  ]
}